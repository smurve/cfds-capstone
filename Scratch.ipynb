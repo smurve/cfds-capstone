{
 "cells": [
  {
   "cell_type": "code",
   "execution_count": null,
   "metadata": {
    "collapsed": true
   },
   "outputs": [],
   "source": [
    "ss = 5 + 7 * 60 + 13 * 60 * 60 + 9 * 24 * 60 * 60\n",
    "m, s = divmod(ss, 60)\n",
    "h, m = divmod(m, 60)\n",
    "d, h = divmod(h, 24)\n",
    "d, h, m, s"
   ]
  },
  {
   "cell_type": "code",
   "execution_count": 1,
   "outputs": [],
   "source": [
    "import markets.realistic.logging_conf\n",
    "import logging"
   ],
   "metadata": {
    "collapsed": false,
    "pycharm": {
     "name": "#%%\n"
    }
   }
  },
  {
   "cell_type": "code",
   "execution_count": 6,
   "outputs": [],
   "source": [],
   "metadata": {
    "collapsed": false,
    "pycharm": {
     "name": "#%%\n"
    }
   }
  },
  {
   "cell_type": "code",
   "execution_count": 2,
   "outputs": [],
   "source": [
    "logger = logging.getLogger('root')\n",
    "logger.info(\"Info: Hallo\")\n",
    "logger.debug(\"Debug: Hallo\")\n",
    "logger.error(\"Error: Hallo\")\n",
    "logger.warning('Warning: Hello')"
   ],
   "metadata": {
    "collapsed": false,
    "pycharm": {
     "name": "#%%\n"
    }
   }
  },
  {
   "cell_type": "code",
   "execution_count": 3,
   "outputs": [],
   "source": [
    "\n",
    "logger = logging.getLogger('whatever')\n",
    "logger.info(\"Info: Hallo\")\n",
    "logger.debug(\"Debug: Hallo\")\n",
    "logger.error(\"Error: Hallo\")\n",
    "logger.warning('Warning: Hello')"
   ],
   "metadata": {
    "collapsed": false,
    "pycharm": {
     "name": "#%%\n"
    }
   }
  },
  {
   "cell_type": "code",
   "execution_count": null,
   "outputs": [],
   "source": [],
   "metadata": {
    "collapsed": false,
    "pycharm": {
     "name": "#%%\n"
    }
   }
  }
 ],
 "metadata": {
  "kernelspec": {
   "display_name": "Python 3",
   "language": "python",
   "name": "python3"
  },
  "language_info": {
   "codemirror_mode": {
    "name": "ipython",
    "version": 2
   },
   "file_extension": ".py",
   "mimetype": "text/x-python",
   "name": "python",
   "nbconvert_exporter": "python",
   "pygments_lexer": "ipython2",
   "version": "2.7.6"
  }
 },
 "nbformat": 4,
 "nbformat_minor": 0
}
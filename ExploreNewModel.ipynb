{
 "cells": [
  {
   "cell_type": "code",
   "execution_count": 1,
   "outputs": [],
   "source": [
    "from markets.dynamic_market import Segment, GeoMarket, Stock\n",
    "from markets.stocks_model import rnd_sentiments"
   ],
   "metadata": {
    "collapsed": false,
    "pycharm": {
     "name": "#%%\n"
    }
   }
  },
  {
   "cell_type": "code",
   "execution_count": 2,
   "metadata": {},
   "outputs": [],
   "source": [
    "%load_ext autoreload\n",
    "%autoreload 2"
   ]
  },
  {
   "cell_type": "code",
   "execution_count": 3,
   "metadata": {},
   "outputs": [],
   "source": [
    "%matplotlib inline\n",
    "import warnings\n",
    "warnings.filterwarnings('ignore')\n",
    "import matplotlib.pyplot as plt\n",
    "import seaborn as sns"
   ]
  },
  {
   "cell_type": "code",
   "execution_count": 4,
   "metadata": {},
   "outputs": [],
   "source": [
    "sns.set_style('darkgrid')\n",
    "sns.set(rc={'figure.figsize': (12,4)})"
   ]
  },
  {
   "cell_type": "code",
   "execution_count": 5,
   "metadata": {},
   "outputs": [],
   "source": [
    "import numpy as np\n",
    "# Repeatable random: Always set a seed!\n",
    "np.random.seed(17)"
   ]
  },
  {
   "cell_type": "code",
   "execution_count": 5,
   "metadata": {},
   "outputs": [],
   "source": []
  },
  {
   "cell_type": "code",
   "execution_count": 6,
   "metadata": {},
   "outputs": [
    {
     "data": {
      "text/plain": "<Figure size 864x288 with 1 Axes>",
      "image/png": "[encoded data removed]"
     },
     "metadata": {},
     "output_type": "display_data"
    }
   ],
   "source": [
    "sentiments = rnd_sentiments()       # quarterly impacted stock sentiments\n",
    "beta_geo = .15       # exposure (beta) to the US market\n",
    "beta_it = .25       # exposure (beta) to the IT sector\n",
    "e_cagr = 1e-4\n",
    "max_effect = 3.0\n",
    "psi0 = 70\n",
    "it = Segment('Information Technology', {0: (.0, -.002)})\n",
    "us = GeoMarket('US',  # A name\n",
    "               {0: (.1, -0.0005),  # Market sentiment over time, starting slightly bullish\n",
    "                150: (-.1, -0.001),\n",
    "                300: (-.13, 0),  # Not too bad yet\n",
    "                380: (-.1, -0.005),  # A period of hope\n",
    "                450: (.15, 0.003),\n",
    "                500: (.25, 0),  # And more hope\n",
    "                620: (.1, 0.004),\n",
    "                700: (.1, 0.001),\n",
    "                830: (.05, 0.007)\n",
    "                })\n",
    "\n",
    "ticker = 'AAPL'\n",
    "stock = Stock(name=ticker, e_cagr=e_cagr, max_effect=max_effect, psi0=psi0,\n",
    "              segments={it: beta_it}, markets={us: beta_geo},\n",
    "              sentiments=sentiments, noise=.4)\n",
    "\n",
    "stocks = {ticker: stock}\n",
    "\n",
    "plt.plot([stock.psi(t) for t in range(1152)]);"
   ]
  },
  {
   "cell_type": "markdown",
   "metadata": {},
   "source": [
    "### The old Model\n",
    "#### Michael is trading a single stock: AAPL (Ok ok, in reality, he wouldn't ever...;-)"
   ]
  },
  {
   "cell_type": "code",
   "execution_count": 7,
   "metadata": {},
   "outputs": [
    {
     "name": "stdout",
     "output_type": "stream",
     "text": [
      "Michael's position in AAPL before acting: 10000\n",
      "Current prices (bid, ask): 70.885, 70.485\n",
      "\n",
      "Michael's position in AAPL after  acting: 9990\n",
      "Current prices (bid, ask): 70.685, 70.285\n"
     ]
    }
   ],
   "source": [
    "import markets.dynamic_market as old\n",
    "portfolio = {stock.name: 10000}\n",
    "michael = old.MomentumInvestor(\n",
    "    name=\"Michael Burry\", \n",
    "    wealth=1000000, \n",
    "    portfolio=portfolio)\n",
    "\n",
    "market = old.Market(stocks=list(stocks.values()), bid_ask=0.2)\n",
    "market.open()\n",
    "\n",
    "print(\"Michael's position in %s before acting: %s\" % (ticker, michael.portfolio[ticker]))\n",
    "print(\"Current prices (bid, ask): %s, %s\" % market.price_for(ticker))\n",
    "\n",
    "michael.act_on(market, ticker)\n",
    "print()\n",
    "\n",
    "print(\"Michael's position in %s after  acting: %s\" % (ticker, michael.portfolio[ticker]))\n",
    "print(\"Current prices (bid, ask): %s, %s\" % market.price_for(ticker))"
   ]
  },
  {
   "cell_type": "markdown",
   "source": [
    "---\n",
    "## New Market Model"
   ],
   "metadata": {
    "collapsed": false
   }
  },
  {
   "cell_type": "code",
   "execution_count": 9,
   "outputs": [
    {
     "name": "stderr",
     "output_type": "stream",
     "text": [
      "2020-09-27 22:15:59,005\tINFO resource_spec.py:223 -- Starting Ray with 32.91 GiB memory available for workers and up to 16.46 GiB for objects. You can adjust these settings with ray.init(memory=<bytes>, object_store_memory=<bytes>).\n",
      "2020-09-27 22:15:59,579\tINFO services.py:1191 -- View the Ray dashboard at \u001B[1m\u001B[32mlocalhost:8265\u001B[39m\u001B[22m\n"
     ]
    },
    {
     "data": {
      "text/plain": "{'node_ip_address': '192.168.1.126',\n 'raylet_ip_address': '192.168.1.126',\n 'redis_address': '192.168.1.126:51661',\n 'object_store_address': '/tmp/ray/session_2020-09-27_22-15-58_996687_758/sockets/plasma_store',\n 'raylet_socket_name': '/tmp/ray/session_2020-09-27_22-15-58_996687_758/sockets/raylet',\n 'webui_url': 'localhost:8265',\n 'session_dir': '/tmp/ray/session_2020-09-27_22-15-58_996687_758'}"
     },
     "execution_count": 9,
     "metadata": {},
     "output_type": "execute_result"
    }
   ],
   "source": [
    "import ray\n",
    "ray.init()"
   ],
   "metadata": {
    "collapsed": false,
    "pycharm": {
     "name": "#%%\n"
    }
   }
  },
  {
   "cell_type": "code",
   "execution_count": 10,
   "outputs": [],
   "source": [
    "from markets.realistic import *\n",
    "sc = RayMarketScenario()\n",
    "initial_prices = {\n",
    "    'TSMC': 100,\n",
    "    'NVDA': 200,\n",
    "    'AAPL': 140,\n",
    "    'SNOW': 400,\n",
    "    'GE': '20'\n",
    "}\n",
    "mm = MarketMaker(initial_prices)\n",
    "\n",
    "warren = MomentumInvestor(name='Warren Buffet', portfolio={'TSMC': 5000, 'CASH': 200_000},\n",
    "                          market_maker=mm)"
   ],
   "metadata": {
    "collapsed": false,
    "pycharm": {
     "name": "#%%\n"
    }
   }
  },
  {
   "cell_type": "code",
   "execution_count": 11,
   "outputs": [
    {
     "data": {
      "text/plain": "Actor(RayInvestor, 45b95b1c0100)"
     },
     "execution_count": 11,
     "metadata": {},
     "output_type": "execute_result"
    }
   ],
   "source": [
    "sc.register_investors(warren)\n",
    "sc.investors[0]"
   ],
   "metadata": {
    "collapsed": false,
    "pycharm": {
     "name": "#%%\n"
    }
   }
  },
  {
   "cell_type": "code",
   "execution_count": 12,
   "outputs": [
    {
     "data": {
      "text/plain": "['Warren Buffet@192.168.1.126']"
     },
     "execution_count": 12,
     "metadata": {},
     "output_type": "execute_result"
    }
   ],
   "source": [
    "sc.identify_investors()"
   ],
   "metadata": {
    "collapsed": false,
    "pycharm": {
     "name": "#%%\n"
    }
   }
  },
  {
   "cell_type": "code",
   "execution_count": 16,
   "outputs": [],
   "source": [
    "ray.shutdown()\n"
   ],
   "metadata": {
    "collapsed": false,
    "pycharm": {
     "name": "#%%\n"
    }
   }
  },
  {
   "cell_type": "code",
   "execution_count": null,
   "outputs": [],
   "source": [],
   "metadata": {
    "collapsed": false,
    "pycharm": {
     "name": "#%%\n"
    }
   }
  },
  {
   "cell_type": "code",
   "execution_count": null,
   "outputs": [],
   "source": [],
   "metadata": {
    "collapsed": false,
    "pycharm": {
     "name": "#%%\n"
    }
   }
  },
  {
   "cell_type": "code",
   "execution_count": null,
   "outputs": [],
   "source": [],
   "metadata": {
    "collapsed": false,
    "pycharm": {
     "name": "#%%\n"
    }
   }
  },
  {
   "cell_type": "code",
   "execution_count": null,
   "outputs": [],
   "source": [],
   "metadata": {
    "collapsed": false,
    "pycharm": {
     "name": "#%%\n"
    }
   }
  },
  {
   "cell_type": "code",
   "execution_count": null,
   "outputs": [],
   "source": [],
   "metadata": {
    "collapsed": false,
    "pycharm": {
     "name": "#%%\n"
    }
   }
  },
  {
   "cell_type": "code",
   "execution_count": null,
   "outputs": [],
   "source": [],
   "metadata": {
    "collapsed": false,
    "pycharm": {
     "name": "#%%\n"
    }
   }
  },
  {
   "cell_type": "code",
   "execution_count": null,
   "outputs": [],
   "source": [],
   "metadata": {
    "collapsed": false,
    "pycharm": {
     "name": "#%%\n"
    }
   }
  },
  {
   "cell_type": "code",
   "execution_count": null,
   "outputs": [],
   "source": [],
   "metadata": {
    "collapsed": false,
    "pycharm": {
     "name": "#%%\n"
    }
   }
  },
  {
   "cell_type": "code",
   "execution_count": null,
   "outputs": [],
   "source": [],
   "metadata": {
    "collapsed": false,
    "pycharm": {
     "name": "#%%\n"
    }
   }
  },
  {
   "cell_type": "code",
   "execution_count": null,
   "outputs": [],
   "source": [],
   "metadata": {
    "collapsed": false,
    "pycharm": {
     "name": "#%%\n"
    }
   }
  },
  {
   "cell_type": "code",
   "execution_count": null,
   "outputs": [],
   "source": [],
   "metadata": {
    "collapsed": false,
    "pycharm": {
     "name": "#%%\n"
    }
   }
  },
  {
   "cell_type": "code",
   "execution_count": null,
   "outputs": [],
   "source": [],
   "metadata": {
    "collapsed": false,
    "pycharm": {
     "name": "#%%\n"
    }
   }
  },
  {
   "cell_type": "code",
   "execution_count": null,
   "outputs": [],
   "source": [],
   "metadata": {
    "collapsed": false,
    "pycharm": {
     "name": "#%%\n"
    }
   }
  },
  {
   "cell_type": "code",
   "execution_count": null,
   "outputs": [],
   "source": [],
   "metadata": {
    "collapsed": false,
    "pycharm": {
     "name": "#%%\n"
    }
   }
  },
  {
   "cell_type": "code",
   "execution_count": null,
   "outputs": [],
   "source": [],
   "metadata": {
    "collapsed": false,
    "pycharm": {
     "name": "#%%\n"
    }
   }
  },
  {
   "cell_type": "code",
   "execution_count": null,
   "outputs": [],
   "source": [],
   "metadata": {
    "collapsed": false,
    "pycharm": {
     "name": "#%%\n"
    }
   }
  },
  {
   "cell_type": "code",
   "execution_count": null,
   "outputs": [],
   "source": [],
   "metadata": {
    "collapsed": false,
    "pycharm": {
     "name": "#%%\n"
    }
   }
  },
  {
   "cell_type": "code",
   "execution_count": null,
   "outputs": [],
   "source": [],
   "metadata": {
    "collapsed": false,
    "pycharm": {
     "name": "#%%\n"
    }
   }
  },
  {
   "cell_type": "code",
   "execution_count": null,
   "outputs": [],
   "source": [],
   "metadata": {
    "collapsed": false,
    "pycharm": {
     "name": "#%%\n"
    }
   }
  },
  {
   "cell_type": "code",
   "execution_count": null,
   "outputs": [],
   "source": [],
   "metadata": {
    "collapsed": false,
    "pycharm": {
     "name": "#%%\n"
    }
   }
  },
  {
   "cell_type": "code",
   "execution_count": null,
   "outputs": [],
   "source": [],
   "metadata": {
    "collapsed": false,
    "pycharm": {
     "name": "#%%\n"
    }
   }
  },
  {
   "cell_type": "code",
   "execution_count": null,
   "outputs": [],
   "source": [],
   "metadata": {
    "collapsed": false,
    "pycharm": {
     "name": "#%%\n"
    }
   }
  },
  {
   "cell_type": "code",
   "execution_count": null,
   "outputs": [],
   "source": [],
   "metadata": {
    "collapsed": false,
    "pycharm": {
     "name": "#%%\n"
    }
   }
  },
  {
   "cell_type": "code",
   "execution_count": null,
   "outputs": [],
   "source": [],
   "metadata": {
    "collapsed": false,
    "pycharm": {
     "name": "#%%\n"
    }
   }
  },
  {
   "cell_type": "code",
   "execution_count": null,
   "outputs": [],
   "source": [],
   "metadata": {
    "collapsed": false,
    "pycharm": {
     "name": "#%%\n"
    }
   }
  },
  {
   "cell_type": "code",
   "execution_count": null,
   "outputs": [],
   "source": [],
   "metadata": {
    "collapsed": false,
    "pycharm": {
     "name": "#%%\n"
    }
   }
  },
  {
   "cell_type": "code",
   "execution_count": null,
   "outputs": [],
   "source": [],
   "metadata": {
    "collapsed": false,
    "pycharm": {
     "name": "#%%\n"
    }
   }
  },
  {
   "cell_type": "markdown",
   "source": [
    "---\n",
    "## Matching Orders in practise"
   ],
   "metadata": {
    "collapsed": false,
    "pycharm": {
     "name": "#%% md\n"
    }
   }
  },
  {
   "cell_type": "code",
   "execution_count": 16,
   "metadata": {},
   "outputs": [],
   "source": [
    "import numpy as np\n",
    "import seaborn as sns\n",
    "import datetime as dt\n",
    "import pandas as pd"
   ]
  },
  {
   "cell_type": "code",
   "execution_count": 17,
   "metadata": {},
   "outputs": [],
   "source": [
    "from markets.realistic import *"
   ]
  },
  {
   "cell_type": "code",
   "execution_count": 19,
   "metadata": {},
   "outputs": [],
   "source": [
    "expiry = dt.datetime.now() + dt.timedelta(hours=1)"
   ]
  },
  {
   "cell_type": "code",
   "execution_count": 20,
   "metadata": {},
   "outputs": [],
   "source": [
    "symbol = 'TSMC'"
   ]
  },
  {
   "cell_type": "code",
   "execution_count": 21,
   "metadata": {},
   "outputs": [],
   "source": [
    "buyer = TriangularOrderGenerator(split=.1, client_id=uuid.uuid4(), expiry=expiry)\n",
    "seller = TriangularOrderGenerator(split=.1, client_id=uuid.uuid4(), expiry=expiry)"
   ]
  },
  {
   "cell_type": "markdown",
   "source": [
    "---\n",
    "Buy orders"
   ],
   "metadata": {
    "collapsed": false
   }
  },
  {
   "cell_type": "code",
   "execution_count": 22,
   "metadata": {},
   "outputs": [
    {
     "data": {
      "text/plain": "    price      amount                           other_party symbol  \\\n0  339.42  153.932988  60c04af1-77fb-4c17-b922-c1537737799e   TSMC   \n1  339.53  141.105239  60c04af1-77fb-4c17-b922-c1537737799e   TSMC   \n2  339.63  128.277490  60c04af1-77fb-4c17-b922-c1537737799e   TSMC   \n3  339.74  115.449741  60c04af1-77fb-4c17-b922-c1537737799e   TSMC   \n4  339.84  102.621992  60c04af1-77fb-4c17-b922-c1537737799e   TSMC   \n\n                      expiry     order_type  \n0 2020-09-27 14:41:54.671737  OrderType.BID  \n1 2020-09-27 14:41:54.671737  OrderType.BID  \n2 2020-09-27 14:41:54.671737  OrderType.BID  \n3 2020-09-27 14:41:54.671737  OrderType.BID  \n4 2020-09-27 14:41:54.671737  OrderType.BID  ",
      "text/html": "<div>\n<style scoped>\n    .dataframe tbody tr th:only-of-type {\n        vertical-align: middle;\n    }\n\n    .dataframe tbody tr th {\n        vertical-align: top;\n    }\n\n    .dataframe thead th {\n        text-align: right;\n    }\n</style>\n<table border=\"1\" class=\"dataframe\">\n  <thead>\n    <tr style=\"text-align: right;\">\n      <th></th>\n      <th>price</th>\n      <th>amount</th>\n      <th>other_party</th>\n      <th>symbol</th>\n      <th>expiry</th>\n      <th>order_type</th>\n    </tr>\n  </thead>\n  <tbody>\n    <tr>\n      <th>0</th>\n      <td>339.42</td>\n      <td>153.932988</td>\n      <td>60c04af1-77fb-4c17-b922-c1537737799e</td>\n      <td>TSMC</td>\n      <td>2020-09-27 14:41:54.671737</td>\n      <td>OrderType.BID</td>\n    </tr>\n    <tr>\n      <th>1</th>\n      <td>339.53</td>\n      <td>141.105239</td>\n      <td>60c04af1-77fb-4c17-b922-c1537737799e</td>\n      <td>TSMC</td>\n      <td>2020-09-27 14:41:54.671737</td>\n      <td>OrderType.BID</td>\n    </tr>\n    <tr>\n      <th>2</th>\n      <td>339.63</td>\n      <td>128.277490</td>\n      <td>60c04af1-77fb-4c17-b922-c1537737799e</td>\n      <td>TSMC</td>\n      <td>2020-09-27 14:41:54.671737</td>\n      <td>OrderType.BID</td>\n    </tr>\n    <tr>\n      <th>3</th>\n      <td>339.74</td>\n      <td>115.449741</td>\n      <td>60c04af1-77fb-4c17-b922-c1537737799e</td>\n      <td>TSMC</td>\n      <td>2020-09-27 14:41:54.671737</td>\n      <td>OrderType.BID</td>\n    </tr>\n    <tr>\n      <th>4</th>\n      <td>339.84</td>\n      <td>102.621992</td>\n      <td>60c04af1-77fb-4c17-b922-c1537737799e</td>\n      <td>TSMC</td>\n      <td>2020-09-27 14:41:54.671737</td>\n      <td>OrderType.BID</td>\n    </tr>\n  </tbody>\n</table>\n</div>"
     },
     "execution_count": 22,
     "metadata": {},
     "output_type": "execute_result"
    }
   ],
   "source": [
    "buy_orders = buyer.create_orders_df(symbol, 340, .004, 1000, OrderType.BID)\n",
    "sell_orders = seller.create_orders_df(symbol, 341, .006, 1200, OrderType.ASK)\n",
    "buy_orders.head()"
   ]
  },
  {
   "cell_type": "markdown",
   "source": [
    "---\n",
    "Sell orders"
   ],
   "metadata": {
    "collapsed": false
   }
  },
  {
   "cell_type": "code",
   "execution_count": 13,
   "metadata": {},
   "outputs": [
    {
     "data": {
      "text/html": [
       "<div>\n",
       "<style scoped>\n",
       "    .dataframe tbody tr th:only-of-type {\n",
       "        vertical-align: middle;\n",
       "    }\n",
       "\n",
       "    .dataframe tbody tr th {\n",
       "        vertical-align: top;\n",
       "    }\n",
       "\n",
       "    .dataframe thead th {\n",
       "        text-align: right;\n",
       "    }\n",
       "</style>\n",
       "<table border=\"1\" class=\"dataframe\">\n",
       "  <thead>\n",
       "    <tr style=\"text-align: right;\">\n",
       "      <th></th>\n",
       "      <th>price</th>\n",
       "      <th>amount</th>\n",
       "      <th>other_party</th>\n",
       "      <th>symbol</th>\n",
       "      <th>expiry</th>\n",
       "      <th>order_type</th>\n",
       "    </tr>\n",
       "  </thead>\n",
       "  <tbody>\n",
       "    <tr>\n",
       "      <th>0</th>\n",
       "      <td>339.98</td>\n",
       "      <td>0.000000</td>\n",
       "      <td>b8a96dec-56d4-404d-9b7f-1f2c3af5d26e</td>\n",
       "      <td>TSMC</td>\n",
       "      <td>2020-09-15 20:15:12.284961</td>\n",
       "      <td>OrderType.ASK</td>\n",
       "    </tr>\n",
       "    <tr>\n",
       "      <th>1</th>\n",
       "      <td>340.08</td>\n",
       "      <td>6.310110</td>\n",
       "      <td>b8a96dec-56d4-404d-9b7f-1f2c3af5d26e</td>\n",
       "      <td>TSMC</td>\n",
       "      <td>2020-09-15 20:15:12.284961</td>\n",
       "      <td>OrderType.ASK</td>\n",
       "    </tr>\n",
       "    <tr>\n",
       "      <th>2</th>\n",
       "      <td>340.18</td>\n",
       "      <td>12.620221</td>\n",
       "      <td>b8a96dec-56d4-404d-9b7f-1f2c3af5d26e</td>\n",
       "      <td>TSMC</td>\n",
       "      <td>2020-09-15 20:15:12.284961</td>\n",
       "      <td>OrderType.ASK</td>\n",
       "    </tr>\n",
       "    <tr>\n",
       "      <th>3</th>\n",
       "      <td>340.28</td>\n",
       "      <td>18.930331</td>\n",
       "      <td>b8a96dec-56d4-404d-9b7f-1f2c3af5d26e</td>\n",
       "      <td>TSMC</td>\n",
       "      <td>2020-09-15 20:15:12.284961</td>\n",
       "      <td>OrderType.ASK</td>\n",
       "    </tr>\n",
       "    <tr>\n",
       "      <th>4</th>\n",
       "      <td>340.39</td>\n",
       "      <td>25.240441</td>\n",
       "      <td>b8a96dec-56d4-404d-9b7f-1f2c3af5d26e</td>\n",
       "      <td>TSMC</td>\n",
       "      <td>2020-09-15 20:15:12.284961</td>\n",
       "      <td>OrderType.ASK</td>\n",
       "    </tr>\n",
       "  </tbody>\n",
       "</table>\n",
       "</div>"
      ],
      "text/plain": [
       "    price     amount                           other_party symbol  \\\n",
       "0  339.98   0.000000  b8a96dec-56d4-404d-9b7f-1f2c3af5d26e   TSMC   \n",
       "1  340.08   6.310110  b8a96dec-56d4-404d-9b7f-1f2c3af5d26e   TSMC   \n",
       "2  340.18  12.620221  b8a96dec-56d4-404d-9b7f-1f2c3af5d26e   TSMC   \n",
       "3  340.28  18.930331  b8a96dec-56d4-404d-9b7f-1f2c3af5d26e   TSMC   \n",
       "4  340.39  25.240441  b8a96dec-56d4-404d-9b7f-1f2c3af5d26e   TSMC   \n",
       "\n",
       "                      expiry     order_type  \n",
       "0 2020-09-15 20:15:12.284961  OrderType.ASK  \n",
       "1 2020-09-15 20:15:12.284961  OrderType.ASK  \n",
       "2 2020-09-15 20:15:12.284961  OrderType.ASK  \n",
       "3 2020-09-15 20:15:12.284961  OrderType.ASK  \n",
       "4 2020-09-15 20:15:12.284961  OrderType.ASK  "
      ]
     },
     "execution_count": 13,
     "metadata": {},
     "output_type": "execute_result"
    }
   ],
   "source": [
    "sell_orders = seller.create_orders_df(symbol, 341, .006, 1200, OrderType.ASK)\n",
    "sell_orders.head()"
   ]
  },
  {
   "cell_type": "code",
   "execution_count": 23,
   "metadata": {},
   "outputs": [
    {
     "data": {
      "text/plain": "<Figure size 1152x432 with 1 Axes>",
      "image/png": "[encoded data removed]"
     },
     "metadata": {},
     "output_type": "display_data"
    }
   ],
   "source": [
    "plt.figure(figsize=(16, 6))\n",
    "data = pd.concat([sell_orders, buy_orders])\n",
    "sns.scatterplot(data=data, x='price', y='amount', hue=data['order_type'].to_list());"
   ]
  },
  {
   "cell_type": "code",
   "execution_count": 30,
   "metadata": {},
   "outputs": [
    {
     "data": {
      "text/plain": [
       "{UUID('9410319c-e14a-40f6-8d96-39b77de7323c'): {'TSMC': 1000, 'CASH': 200000},\n",
       " UUID('28fccc22-8f59-4d8e-b939-57dfd85b5b7b'): {'TSMC': 2000, 'CASH': 100000}}"
      ]
     },
     "execution_count": 30,
     "metadata": {},
     "output_type": "execute_result"
    }
   ],
   "source": [
    "mm = MarketMaker({symbol: 200})\n",
    "mm.register_participant(buyer.client_id, {symbol: 1000, 'CASH': 200_000})\n",
    "mm.register_participant(seller.client_id, {symbol: 2000, 'CASH': 100_000})\n",
    "mm.participants"
   ]
  },
  {
   "cell_type": "code",
   "execution_count": 16,
   "metadata": {},
   "outputs": [
    {
     "data": {
      "text/html": [
       "<div>\n",
       "<style scoped>\n",
       "    .dataframe tbody tr th:only-of-type {\n",
       "        vertical-align: middle;\n",
       "    }\n",
       "\n",
       "    .dataframe tbody tr th {\n",
       "        vertical-align: top;\n",
       "    }\n",
       "\n",
       "    .dataframe thead th {\n",
       "        text-align: right;\n",
       "    }\n",
       "</style>\n",
       "<table border=\"1\" class=\"dataframe\">\n",
       "  <thead>\n",
       "    <tr style=\"text-align: right;\">\n",
       "      <th></th>\n",
       "      <th>price</th>\n",
       "      <th>amount</th>\n",
       "      <th>other_party</th>\n",
       "      <th>symbol</th>\n",
       "      <th>expiry</th>\n",
       "      <th>order_type</th>\n",
       "    </tr>\n",
       "  </thead>\n",
       "  <tbody>\n",
       "    <tr>\n",
       "      <th>5</th>\n",
       "      <td>340.49</td>\n",
       "      <td>31.550552</td>\n",
       "      <td>1a0e143b-f718-4bf9-88fd-d3055b5cfac9</td>\n",
       "      <td>TSMC</td>\n",
       "      <td>2020-09-14 12:20:04.940894</td>\n",
       "      <td>OrderType.ASK</td>\n",
       "    </tr>\n",
       "  </tbody>\n",
       "</table>\n",
       "</div>"
      ],
      "text/plain": [
       "    price     amount                           other_party symbol  \\\n",
       "5  340.49  31.550552  1a0e143b-f718-4bf9-88fd-d3055b5cfac9   TSMC   \n",
       "\n",
       "                      expiry     order_type  \n",
       "5 2020-09-14 12:20:04.940894  OrderType.ASK  "
      ]
     },
     "execution_count": 16,
     "metadata": {},
     "output_type": "execute_result"
    }
   ],
   "source": [
    "i=5; data.iloc[i:i+1]"
   ]
  },
  {
   "cell_type": "code",
   "execution_count": 17,
   "metadata": {},
   "outputs": [
    {
     "data": {
      "text/html": [
       "<div>\n",
       "<style scoped>\n",
       "    .dataframe tbody tr th:only-of-type {\n",
       "        vertical-align: middle;\n",
       "    }\n",
       "\n",
       "    .dataframe tbody tr th {\n",
       "        vertical-align: top;\n",
       "    }\n",
       "\n",
       "    .dataframe thead th {\n",
       "        text-align: right;\n",
       "    }\n",
       "</style>\n",
       "<table border=\"1\" class=\"dataframe\">\n",
       "  <thead>\n",
       "    <tr style=\"text-align: right;\">\n",
       "      <th></th>\n",
       "      <th>price</th>\n",
       "      <th>amount</th>\n",
       "      <th>other_party</th>\n",
       "      <th>symbol</th>\n",
       "      <th>expiry</th>\n",
       "      <th>order_type</th>\n",
       "    </tr>\n",
       "  </thead>\n",
       "  <tbody>\n",
       "    <tr>\n",
       "      <th>9</th>\n",
       "      <td>340.37</td>\n",
       "      <td>38.483247</td>\n",
       "      <td>005462ae-2475-4ee9-97ae-a5440dd0b1f8</td>\n",
       "      <td>TSMC</td>\n",
       "      <td>2020-09-14 12:20:04.940894</td>\n",
       "      <td>OrderType.BID</td>\n",
       "    </tr>\n",
       "  </tbody>\n",
       "</table>\n",
       "</div>"
      ],
      "text/plain": [
       "    price     amount                           other_party symbol  \\\n",
       "9  340.37  38.483247  005462ae-2475-4ee9-97ae-a5440dd0b1f8   TSMC   \n",
       "\n",
       "                      expiry     order_type  \n",
       "9 2020-09-14 12:20:04.940894  OrderType.BID  "
      ]
     },
     "execution_count": 17,
     "metadata": {},
     "output_type": "execute_result"
    }
   ],
   "source": [
    "i=29; data.iloc[i:i+1]"
   ]
  },
  {
   "cell_type": "code",
   "execution_count": 25,
   "metadata": {},
   "outputs": [
    {
     "data": {
      "text/plain": [
       "[Order(other_party=UUID('ccd5f3d1-75aa-4cf8-839f-7b9a829f4cef'), order_type=<OrderType.ASK: 'ask'>, symbol='TSMC', amount=0.0, price=339.98, expiry=Timestamp('2020-09-14 12:20:04.940894')),\n",
       " Order(other_party=UUID('ccd5f3d1-75aa-4cf8-839f-7b9a829f4cef'), order_type=<OrderType.ASK: 'ask'>, symbol='TSMC', amount=6.310110374347303, price=340.08, expiry=Timestamp('2020-09-14 12:20:04.940894')),\n",
       " Order(other_party=UUID('ccd5f3d1-75aa-4cf8-839f-7b9a829f4cef'), order_type=<OrderType.ASK: 'ask'>, symbol='TSMC', amount=12.620220748694607, price=340.18, expiry=Timestamp('2020-09-14 12:20:04.940894'))]"
      ]
     },
     "execution_count": 25,
     "metadata": {},
     "output_type": "execute_result"
    }
   ],
   "source": [
    "sell_orders = buyer.create_orders_list(symbol, 341, .006, 1200, OrderType.ASK)\n",
    "sell_orders[:3]"
   ]
  },
  {
   "cell_type": "code",
   "execution_count": 27,
   "metadata": {},
   "outputs": [
    {
     "data": {
      "text/plain": [
       "[Order(other_party=UUID('ccd5f3d1-75aa-4cf8-839f-7b9a829f4cef'), order_type=<OrderType.ASK: 'ask'>, symbol='TSMC', amount=31.550551871736502, price=340.49, expiry=Timestamp('2020-09-14 12:20:04.940894'))]"
      ]
     },
     "execution_count": 27,
     "metadata": {},
     "output_type": "execute_result"
    }
   ],
   "source": [
    "orders = sell_orders[5:6]\n",
    "orders"
   ]
  },
  {
   "cell_type": "code",
   "execution_count": 19,
   "metadata": {},
   "outputs": [],
   "source": [
    "mm.submit_orders(symbol, sell_orders)"
   ]
  },
  {
   "cell_type": "code",
   "execution_count": 20,
   "metadata": {},
   "outputs": [
    {
     "data": {
      "text/plain": [
       "{}"
      ]
     },
     "execution_count": 20,
     "metadata": {},
     "output_type": "execute_result"
    }
   ],
   "source": [
    "mm.orders"
   ]
  },
  {
   "cell_type": "code",
   "execution_count": 34,
   "metadata": {},
   "outputs": [],
   "source": [
    "from collections import OrderedDict\n",
    "reg = OrderedDict()"
   ]
  },
  {
   "cell_type": "code",
   "execution_count": 37,
   "metadata": {},
   "outputs": [
    {
     "data": {
      "text/plain": [
       "[2, 2]"
      ]
     },
     "execution_count": 37,
     "metadata": {},
     "output_type": "execute_result"
    }
   ],
   "source": [
    "a = [1,2,2]\n",
    "del a[0]\n",
    "a"
   ]
  },
  {
   "cell_type": "markdown",
   "metadata": {},
   "source": [
    "---"
   ]
  },
  {
   "cell_type": "markdown",
   "metadata": {},
   "source": [
    "# Market Dynamics: Bid Order Matching\n",
    "\n",
    "## Theory"
   ]
  },
  {
   "cell_type": "code",
   "execution_count": 8,
   "metadata": {},
   "outputs": [],
   "source": [
    "# 10 cents slices\n",
    "split = .1"
   ]
  },
  {
   "cell_type": "code",
   "execution_count": 9,
   "metadata": {
    "collapsed": true,
    "jupyter": {
     "outputs_hidden": true
    }
   },
   "outputs": [
    {
     "ename": "NameError",
     "evalue": "name 'N_S' is not defined",
     "output_type": "error",
     "traceback": [
      "\u001B[0;31m---------------------------------------------------------------------------\u001B[0m",
      "\u001B[0;31mNameError\u001B[0m                                 Traceback (most recent call last)",
      "\u001B[0;32m<ipython-input-9-7a3d9ba9c5cd>\u001B[0m in \u001B[0;36m<module>\u001B[0;34m\u001B[0m\n\u001B[1;32m      2\u001B[0m \u001B[0mN_a\u001B[0m \u001B[0;34m=\u001B[0m \u001B[0;36m100\u001B[0m\u001B[0;34m\u001B[0m\u001B[0;34m\u001B[0m\u001B[0m\n\u001B[1;32m      3\u001B[0m \u001B[0mp_a\u001B[0m \u001B[0;34m=\u001B[0m \u001B[0;36m270\u001B[0m\u001B[0;34m\u001B[0m\u001B[0;34m\u001B[0m\u001B[0m\n\u001B[0;32m----> 4\u001B[0;31m \u001B[0mV_a\u001B[0m \u001B[0;34m=\u001B[0m \u001B[0mN_S\u001B[0m \u001B[0;34m*\u001B[0m \u001B[0mp_S\u001B[0m\u001B[0;34m\u001B[0m\u001B[0;34m\u001B[0m\u001B[0m\n\u001B[0m\u001B[1;32m      5\u001B[0m \u001B[0mtau_a\u001B[0m \u001B[0;34m=\u001B[0m \u001B[0;36m.2\u001B[0m\u001B[0;34m\u001B[0m\u001B[0;34m\u001B[0m\u001B[0m\n\u001B[1;32m      6\u001B[0m \u001B[0mp_a_lower\u001B[0m\u001B[0;34m,\u001B[0m \u001B[0mp_a_upper\u001B[0m \u001B[0;34m=\u001B[0m \u001B[0mp_a\u001B[0m \u001B[0;34m*\u001B[0m \u001B[0;34m(\u001B[0m \u001B[0;36m1\u001B[0m \u001B[0;34m-\u001B[0m \u001B[0;36m.5\u001B[0m \u001B[0;34m*\u001B[0m \u001B[0mtau_a\u001B[0m\u001B[0;34m)\u001B[0m\u001B[0;34m,\u001B[0m \u001B[0mp_a\u001B[0m \u001B[0;34m*\u001B[0m \u001B[0;34m(\u001B[0m\u001B[0;36m1\u001B[0m \u001B[0;34m+\u001B[0m \u001B[0;36m.5\u001B[0m \u001B[0;34m*\u001B[0m \u001B[0mtau_a\u001B[0m\u001B[0;34m)\u001B[0m\u001B[0;34m\u001B[0m\u001B[0;34m\u001B[0m\u001B[0m\n",
      "\u001B[0;31mNameError\u001B[0m: name 'N_S' is not defined"
     ]
    }
   ],
   "source": [
    "# ask\n",
    "N_a = 100\n",
    "p_a = 270\n",
    "V_a = N_S * p_S\n",
    "tau_a = .2\n",
    "p_a_lower, p_a_upper = p_a * ( 1 - .5 * tau_a), p_a * (1 + .5 * tau_a)\n",
    "nu_a = int (tau_a * p_a / split )\n",
    "print(nu_a, p_a_lower, p_a_upper)"
   ]
  },
  {
   "cell_type": "code",
   "execution_count": 140,
   "metadata": {},
   "outputs": [
    {
     "name": "stdout",
     "output_type": "stream",
     "text": [
      "575 201.25 258.75\n"
     ]
    }
   ],
   "source": [
    "# bid\n",
    "N_b = 50\n",
    "p_b = 230\n",
    "V_b = N_b * p_b\n",
    "tau_b = .25\n",
    "h_b = p_b * (1 + .5 * tau_b)\n",
    "\n",
    "p_b_lower, p_b_upper = p_b * ( 1 - .5 * tau_b), p_b * (1 + .5 * tau_b)\n",
    "nu_b = int (tau_b * p_b / split )\n",
    "print(nu_b, p_b_lower, p_b_upper)"
   ]
  },
  {
   "cell_type": "markdown",
   "metadata": {},
   "source": [
    "### Trianguar bid distribution\n",
    "Actual bid order price $p_b$, number of shares $N_b$, tolerance width from the order price $\\tau_b$.\n",
    "\n",
    "$\n",
    "p_b = 230, N_b = 50, \\tau_b = .25\n",
    "$\n",
    "\n",
    "The range of bid prices\n",
    "$\n",
    "\\nu_b = \\tau_b \\cdot p_b\n",
    "$\n",
    "\n",
    "$\n",
    "p_b^< = p_b \\cdot ( 1 - \\frac{1}{2} \\tau_b) \n",
    "$\n",
    "\n",
    "$\n",
    "p_b^> = p_b \\cdot ( 1 + \\frac{1}{2} \\tau_b) \n",
    "$\n",
    "\n",
    "$\n",
    "V_b = \\sum_{i=0}^{\\nu_b} n_i p_i\n",
    "$\n",
    "\n",
    "$\n",
    "p_b(i) = p_b^< + \\frac{p_b^> - p_b^<}{\\nu_b} \\cdot i\n",
    "$"
   ]
  },
  {
   "cell_type": "markdown",
   "metadata": {},
   "source": [
    "$\n",
    "n_b^> = 0\n",
    "$\n",
    "\n",
    "We want $n_i$ to be linear in $i$\n",
    "\n",
    "$\n",
    "n_b(i) = \\alpha_b(\\nu) + \\beta_b(\\nu) \\cdot i\n",
    "$\n",
    "\n",
    "$\n",
    "V_b = \\sum_{i=0}^{\\nu_b} [\\alpha(\\nu) + \\beta(\\nu) \\cdot i] \\cdot [p_b^< + \\frac{p_b^> - p_b^<}{\\nu_b} \\cdot i]\n",
    "= A(\\nu_b) \\alpha_b + B(\\nu_b) \\beta_b\n",
    "$"
   ]
  },
  {
   "cell_type": "markdown",
   "metadata": {},
   "source": [
    "$\n",
    "A_b(\\nu) = \\nu p_b^< + \\frac{1}{2}(\\nu+1)(p^b_> - p^b_<)\n",
    "$\n",
    "\n",
    "$\n",
    "B_b(\\nu) = \\frac{\\nu(\\nu+1)}{2} p_b^< + (p_b^>-p_b^<)\\frac{(\\nu+1)(2\\nu+1)}{6}\n",
    "$"
   ]
  },
  {
   "cell_type": "markdown",
   "metadata": {},
   "source": [
    "With those results, we can compute $\\alpha$ and $\\beta$:"
   ]
  },
  {
   "cell_type": "markdown",
   "metadata": {},
   "source": [
    "$\n",
    "\\beta_b(\\nu)=\\frac{V_b}{B_b(\\nu) - \\nu A_b(\\nu)}\n",
    "$\n",
    "\n",
    "$\n",
    "\\alpha_b(\\nu)=\\frac{\\nu V_b}{\\nu A_b(\\nu) - B_b(\\nu)}\n",
    "$"
   ]
  },
  {
   "cell_type": "code",
   "execution_count": 15,
   "metadata": {
    "collapsed": false,
    "jupyter": {
     "outputs_hidden": false
    },
    "pycharm": {
     "name": "#%%\n"
    }
   },
   "outputs": [],
   "source": [
    "a={'b': 0, 'a': 1}"
   ]
  },
  {
   "cell_type": "code",
   "execution_count": 17,
   "metadata": {
    "collapsed": false,
    "jupyter": {
     "outputs_hidden": false
    },
    "pycharm": {
     "name": "#%%\n"
    }
   },
   "outputs": [
    {
     "data": {
      "text/plain": [
       "{'a': 1}"
      ]
     },
     "execution_count": 17,
     "metadata": {},
     "output_type": "execute_result"
    }
   ],
   "source": [
    "del a['b']\n",
    "a"
   ]
  },
  {
   "cell_type": "code",
   "execution_count": 18,
   "metadata": {
    "collapsed": false,
    "jupyter": {
     "outputs_hidden": false
    },
    "pycharm": {
     "name": "#%%\n"
    }
   },
   "outputs": [
    {
     "data": {
      "text/plain": [
       "{'a': 1}"
      ]
     },
     "execution_count": 18,
     "metadata": {},
     "output_type": "execute_result"
    }
   ],
   "source": [
    "a"
   ]
  },
  {
   "cell_type": "code",
   "execution_count": null,
   "metadata": {
    "collapsed": false,
    "jupyter": {
     "outputs_hidden": false
    },
    "pycharm": {
     "name": "#%%\n"
    }
   },
   "outputs": [],
   "source": []
  }
 ],
 "metadata": {
  "kernelspec": {
   "display_name": "Python 3",
   "language": "python",
   "name": "python3"
  },
  "language_info": {
   "codemirror_mode": {
    "name": "ipython",
    "version": 3
   },
   "file_extension": ".py",
   "mimetype": "text/x-python",
   "name": "python",
   "nbconvert_exporter": "python",
   "pygments_lexer": "ipython3",
   "version": "3.8.4"
  }
 },
 "nbformat": 4,
 "nbformat_minor": 4
}
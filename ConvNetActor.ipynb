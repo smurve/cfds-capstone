{
 "cells": [
  {
   "cell_type": "markdown",
   "metadata": {},
   "source": [
    "# Verifying ConvNet Architecture\n",
    "In this notebook I make a quick plausibility check to verify the architecture of a convolutional network"
   ]
  },
  {
   "cell_type": "code",
   "execution_count": 24,
   "metadata": {},
   "outputs": [
    {
     "data": {
      "text/plain": [
       "'2.0.0'"
      ]
     },
     "execution_count": 24,
     "metadata": {},
     "output_type": "execute_result"
    }
   ],
   "source": [
    "import tensorflow.keras.layers as tkl\n",
    "import tensorflow.keras as tk\n",
    "import tensorflow as tf\n",
    "import os\n",
    "import shutil\n",
    "import numpy as np\n",
    "tf.__version__"
   ]
  },
  {
   "cell_type": "code",
   "execution_count": 25,
   "metadata": {},
   "outputs": [
    {
     "name": "stdout",
     "output_type": "stream",
     "text": [
      "Logging to ./logs/scalars/20191004-110033\n"
     ]
    }
   ],
   "source": [
    "# Uncomment if you know what you're doing\n",
    "shutil.rmtree('logs', ignore_errors=True)\n",
    "\n",
    "from datetime import datetime\n",
    "logdir = \"./logs/scalars/\" + datetime.now().strftime(\"%Y%m%d-%H%M%S\")\n",
    "tensorboard_callback = tk.callbacks.TensorBoard(log_dir=logdir)\n",
    "os.makedirs(logdir, exist_ok=True)\n",
    "print(\"Logging to %s\" % logdir)"
   ]
  },
  {
   "cell_type": "markdown",
   "metadata": {},
   "source": [
    "Execute ```tensorboard --logdir ./logs``` on a terminal in this directory to watch the training converge as you continue with this notebook."
   ]
  },
  {
   "cell_type": "markdown",
   "metadata": {},
   "source": [
    "## The Convolutional Network Architecture\n",
    "\n",
    "We feed a history of 7 prices from 2 different assets (stocks) into the network. The design is such that the convolution transitions from stock to stock, always probing the entire history of 7 prices. The convolutional layers output is being fed into a 3-layer feed-forward network that ends with a softmax activation. So the network will learn representations across the assets, not specific ones for all assets. This is just a random choice to simplify things for the beginning. "
   ]
  },
  {
   "cell_type": "code",
   "execution_count": 26,
   "metadata": {},
   "outputs": [],
   "source": [
    "n_history=7\n",
    "n_market=2\n",
    "n_portfolio=3 # includes the cash position"
   ]
  },
  {
   "cell_type": "markdown",
   "metadata": {},
   "source": [
    "Here, an actor is just a function (an artificial neural network), that gets a week's worth of price history and outputs a set of portfolio weights."
   ]
  },
  {
   "cell_type": "code",
   "execution_count": 27,
   "metadata": {},
   "outputs": [],
   "source": [
    "def create_convnet_actor(n_filters, n_history, n_market, n_portfolio):\n",
    "    inputs = tk.Input(shape=[n_history,n_market,1])\n",
    "    conv = tkl.Conv2D(activation=None, filters=n_filters, padding='valid', kernel_size=[n_history,n_market])\n",
    "    reshape = tkl.Reshape([n_filters])    \n",
    "    hidden1 = tkl.Dense(units=16, activation='relu')\n",
    "    hidden2 = tkl.Dense(units=8, activation='relu')\n",
    "    out = tkl.Dense(units=n_portfolio, activation='softmax')\n",
    "\n",
    "    model = tk.Model(inputs, out(hidden2(hidden1(reshape(conv(inputs))))))\n",
    "    return model\n",
    "\n",
    "actor = create_convnet_actor(n_filters = 10, n_history=7, n_market=2, n_portfolio=3)"
   ]
  },
  {
   "cell_type": "code",
   "execution_count": 28,
   "metadata": {},
   "outputs": [],
   "source": [
    "actor.compile('sgd', 'mse')"
   ]
  },
  {
   "cell_type": "markdown",
   "metadata": {},
   "source": [
    "#### Random values as training data\n",
    "We just want to see the training converge to verify the architecture"
   ]
  },
  {
   "cell_type": "code",
   "execution_count": 29,
   "metadata": {},
   "outputs": [],
   "source": [
    "train_x = np.random.random([\n",
    "    10000, # number of records\n",
    "    n_history,     # history size\n",
    "    n_market,      # number of assets\n",
    "    1              # depth - usually 3 for the color plane in computer vision - here it's just one layer.\n",
    "]).astype(np.float32)"
   ]
  },
  {
   "cell_type": "markdown",
   "metadata": {},
   "source": [
    "#### Learning from heuristics\n",
    "This function simply returns a value of $1$ for the asset with the maximum rise during the period of 7 (days). Note that this would be true for the cash position only if none of the other assets has gained."
   ]
  },
  {
   "cell_type": "code",
   "execution_count": 30,
   "metadata": {},
   "outputs": [],
   "source": [
    "def heuristic_hold(x):\n",
    "    batch_size = len(x)\n",
    "    x1 = np.squeeze(x)\n",
    "    diffs = x1[:,-1,:] - x1[:,0,:]\n",
    "    diffs_and_cash = np.hstack([np.zeros([batch_size, 1], dtype=np.float32), diffs])\n",
    "    max_diffs = np.max(diffs_and_cash, axis=-1)\n",
    "    labels = ((diffs_and_cash - max_diffs.reshape([batch_size,1])) == 0).astype(np.float32)\n",
    "    return labels"
   ]
  },
  {
   "cell_type": "code",
   "execution_count": 31,
   "metadata": {},
   "outputs": [],
   "source": [
    "train_y = heuristic_hold(train_x)"
   ]
  },
  {
   "cell_type": "code",
   "execution_count": 32,
   "metadata": {},
   "outputs": [],
   "source": [
    "eval_x = np.random.random([100, n_history, n_market, 1]).astype(np.float32)\n",
    "eval_y = heuristic_hold(eval_x)"
   ]
  },
  {
   "cell_type": "code",
   "execution_count": 33,
   "metadata": {},
   "outputs": [
    {
     "data": {
      "text/plain": [
       "10000"
      ]
     },
     "execution_count": 33,
     "metadata": {},
     "output_type": "execute_result"
    }
   ],
   "source": [
    "len(train_x)"
   ]
  },
  {
   "cell_type": "code",
   "execution_count": 34,
   "metadata": {},
   "outputs": [],
   "source": [
    "history = actor.fit(train_x, train_y, epochs=100, verbose=0,\n",
    "                    callbacks=[tensorboard_callback],\n",
    "                    validation_data=(eval_x, eval_y))"
   ]
  },
  {
   "cell_type": "markdown",
   "metadata": {},
   "source": [
    "## Sanity check after training\n",
    "Observe that the actor indeed returns values close to $1$ for those records that end with a higher number than with what they started, and close to $0$ for all others."
   ]
  },
  {
   "cell_type": "code",
   "execution_count": 47,
   "metadata": {},
   "outputs": [
    {
     "data": {
      "text/plain": [
       "<tf.Tensor: id=269188, shape=(5, 3), dtype=float32, numpy=\n",
       "array([[3.5503715e-06, 9.9994445e-01, 5.1950643e-05],\n",
       "       [6.0959259e-08, 9.9999988e-01, 3.9731763e-08],\n",
       "       [1.4052105e-07, 9.9999976e-01, 7.3500466e-08],\n",
       "       [6.8082016e-05, 9.9993193e-01, 3.0345234e-08],\n",
       "       [9.9999940e-01, 6.6626122e-09, 5.5371862e-07]], dtype=float32)>"
      ]
     },
     "execution_count": 47,
     "metadata": {},
     "output_type": "execute_result"
    }
   ],
   "source": [
    "actor(eval_x)[0:5]"
   ]
  },
  {
   "cell_type": "code",
   "execution_count": 48,
   "metadata": {},
   "outputs": [
    {
     "data": {
      "text/plain": [
       "array([[[[0.14670192, 0.14710785, 0.22645074, 0.31332478, 0.8647206 ],\n",
       "         [0.379769  , 0.02188127, 0.75040305, 0.14141458, 0.26921135],\n",
       "         [0.72686905, 0.72749174, 0.0664051 , 0.9600842 , 0.21885511],\n",
       "         [0.5943662 , 0.5341133 , 0.605685  , 0.15992583, 0.4454602 ],\n",
       "         [0.5941088 , 0.9903318 , 0.04926207, 0.17324083, 0.12078375],\n",
       "         [0.27355704, 0.8983864 , 0.3397406 , 0.8909519 , 0.78134435],\n",
       "         [0.55345935, 0.72222865, 0.8539323 , 0.5943414 , 0.2588783 ]],\n",
       "\n",
       "        [[0.8732815 , 0.87914187, 0.10808371, 0.39603496, 0.4264186 ],\n",
       "         [0.20904979, 0.04481515, 0.3455182 , 0.8750493 , 0.3645506 ],\n",
       "         [0.28069633, 0.5954707 , 0.52155495, 0.51588917, 0.65365505],\n",
       "         [0.44895792, 0.01830847, 0.15831602, 0.9685346 , 0.37664878],\n",
       "         [0.8773274 , 0.9965618 , 0.76653284, 0.4224407 , 0.39928755],\n",
       "         [0.16423811, 0.00991424, 0.2722323 , 0.10916654, 0.8237017 ],\n",
       "         [0.98623896, 0.9047933 , 0.19853765, 0.20563015, 0.0548599 ]]]],\n",
       "      dtype=float32)"
      ]
     },
     "execution_count": 48,
     "metadata": {},
     "output_type": "execute_result"
    }
   ],
   "source": [
    "eval_x[0:5].T"
   ]
  },
  {
   "cell_type": "code",
   "execution_count": 49,
   "metadata": {},
   "outputs": [
    {
     "data": {
      "text/plain": [
       "array([[0., 1., 0.],\n",
       "       [0., 1., 0.],\n",
       "       [0., 1., 0.],\n",
       "       [0., 1., 0.],\n",
       "       [1., 0., 0.]], dtype=float32)"
      ]
     },
     "execution_count": 49,
     "metadata": {},
     "output_type": "execute_result"
    }
   ],
   "source": [
    "eval_y[0:5]"
   ]
  },
  {
   "cell_type": "markdown",
   "metadata": {},
   "source": [
    "### Decreasing loss function\n",
    "The first and most basic outcome from a training setup is a reliably decreasing loss function on the training set as well as on the validation set. Exactly that's what we're seeing below."
   ]
  },
  {
   "cell_type": "code",
   "execution_count": 58,
   "metadata": {},
   "outputs": [],
   "source": [
    "%matplotlib inline\n",
    "import matplotlib.pyplot as plt\n",
    "import seaborn as sns"
   ]
  },
  {
   "cell_type": "code",
   "execution_count": 59,
   "metadata": {},
   "outputs": [
    {
     "data": {
      "image/png": "[encoded data removed]",
      "text/plain": [
       "<Figure size 432x288 with 1 Axes>"
      ]
     },
     "metadata": {
      "needs_background": "light"
     },
     "output_type": "display_data"
    }
   ],
   "source": [
    "plt.plot(history.history['loss'])\n",
    "plt.plot(history.history['val_loss']);"
   ]
  },
  {
   "cell_type": "markdown",
   "metadata": {},
   "source": [
    "## Conclusion\n",
    "The above architecture is able to learn from heuristics in a supervised fashion. It learns to allocate a given budget to the asset with the largest gain in the given period. Note, of course, that this setup is unrealistic in many ways. It's just about the convergence of the setup. "
   ]
  },
  {
   "cell_type": "code",
   "execution_count": null,
   "metadata": {},
   "outputs": [],
   "source": []
  }
 ],
 "metadata": {
  "kernelspec": {
   "display_name": "Python 3",
   "language": "python",
   "name": "python3"
  },
  "language_info": {
   "codemirror_mode": {
    "name": "ipython",
    "version": 3
   },
   "file_extension": ".py",
   "mimetype": "text/x-python",
   "name": "python",
   "nbconvert_exporter": "python",
   "pygments_lexer": "ipython3",
   "version": "3.7.4"
  }
 },
 "nbformat": 4,
 "nbformat_minor": 4
}

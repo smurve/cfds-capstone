{
 "cells": [
  {
   "cell_type": "markdown",
   "metadata": {},
   "source": [
    "# Verifying ConvNet Architecture\n",
    "In this notebook I make a quick plausibility check to verify the architecture of a convolutional network"
   ]
  },
  {
   "cell_type": "code",
   "execution_count": 1,
   "metadata": {},
   "outputs": [
    {
     "data": {
      "text/plain": [
       "'2.0.0'"
      ]
     },
     "execution_count": 1,
     "metadata": {},
     "output_type": "execute_result"
    }
   ],
   "source": [
    "import tensorflow.keras.layers as tkl\n",
    "import tensorflow.keras as tk\n",
    "import tensorflow as tf\n",
    "import os\n",
    "import shutil\n",
    "import numpy as np\n",
    "tf.__version__"
   ]
  },
  {
   "cell_type": "code",
   "execution_count": 2,
   "metadata": {},
   "outputs": [
    {
     "name": "stdout",
     "output_type": "stream",
     "text": [
      "Logging to ./logs/scalars/20191013-214530\n"
     ]
    }
   ],
   "source": [
    "# Uncomment if you know what you're doing\n",
    "shutil.rmtree('logs', ignore_errors=True)\n",
    "\n",
    "from datetime import datetime\n",
    "logdir = \"./logs/scalars/\" + datetime.now().strftime(\"%Y%m%d-%H%M%S\")\n",
    "tensorboard_callback = tk.callbacks.TensorBoard(log_dir=logdir)\n",
    "os.makedirs(logdir, exist_ok=True)\n",
    "print(\"Logging to %s\" % logdir)"
   ]
  },
  {
   "cell_type": "markdown",
   "metadata": {},
   "source": [
    "Execute ```tensorboard --logdir ./logs``` on a terminal in this directory to watch the training converge as you continue with this notebook."
   ]
  },
  {
   "cell_type": "markdown",
   "metadata": {},
   "source": [
    "## The Convolutional Network Architecture\n",
    "\n",
    "We feed a history of 7 prices from 2 different assets (stocks) into the network. The design is such that the convolution transitions from stock to stock, always probing the entire history of 7 prices. The convolutional layers output is being fed into a 3-layer feed-forward network that ends with a softmax activation. So the network will learn representations across the assets, not specific ones for all assets. This is just a random choice to simplify things for the beginning. "
   ]
  },
  {
   "cell_type": "code",
   "execution_count": 3,
   "metadata": {},
   "outputs": [],
   "source": [
    "n_history=7\n",
    "n_market=2\n",
    "n_portfolio=3 # includes the cash position"
   ]
  },
  {
   "cell_type": "markdown",
   "metadata": {},
   "source": [
    "Here, an actor is just a function (an artificial neural network), that gets a week's worth of price history and outputs a set of portfolio weights."
   ]
  },
  {
   "cell_type": "code",
   "execution_count": 4,
   "metadata": {},
   "outputs": [],
   "source": [
    "def create_convnet_actor(n_filters, n_history, n_market, n_portfolio):\n",
    "    inputs = tk.Input(shape=[n_history,n_market,1])\n",
    "    conv = tkl.Conv2D(activation=None, filters=n_filters, padding='valid', kernel_size=[n_history,n_market])\n",
    "    reshape = tkl.Reshape([n_filters])    \n",
    "    hidden1 = tkl.Dense(units=16, activation='relu')\n",
    "    hidden2 = tkl.Dense(units=8, activation='relu')\n",
    "    out = tkl.Dense(units=n_portfolio, activation='softmax')\n",
    "\n",
    "    model = tk.Model(inputs, out(hidden2(hidden1(reshape(conv(inputs))))))\n",
    "    return model\n",
    "\n",
    "actor = create_convnet_actor(n_filters = 10, n_history=7, n_market=2, n_portfolio=3)"
   ]
  },
  {
   "cell_type": "code",
   "execution_count": 5,
   "metadata": {},
   "outputs": [],
   "source": [
    "actor.compile('sgd', 'mse')"
   ]
  },
  {
   "cell_type": "markdown",
   "metadata": {},
   "source": [
    "#### Random values as training data\n",
    "We just want to see the training converge to verify the architecture"
   ]
  },
  {
   "cell_type": "code",
   "execution_count": 6,
   "metadata": {},
   "outputs": [],
   "source": [
    "train_x = np.random.random([\n",
    "    10000, # number of records\n",
    "    n_history,     # history size\n",
    "    n_market,      # number of assets\n",
    "    1              # depth - usually 3 for the color plane in computer vision - here it's just one layer.\n",
    "]).astype(np.float32)"
   ]
  },
  {
   "cell_type": "markdown",
   "metadata": {},
   "source": [
    "#### Learning from heuristics\n",
    "This function simply returns a value of $1$ for the asset with the maximum rise during the period of 7 (days). Note that this would be true for the cash position only if none of the other assets has gained."
   ]
  },
  {
   "cell_type": "code",
   "execution_count": 7,
   "metadata": {},
   "outputs": [],
   "source": [
    "def heuristic_hold(x):\n",
    "    batch_size = len(x)\n",
    "    x1 = np.squeeze(x)\n",
    "    diffs = x1[:,-1,:] - x1[:,0,:]\n",
    "    diffs_and_cash = np.hstack([np.zeros([batch_size, 1], dtype=np.float32), diffs])\n",
    "    max_diffs = np.max(diffs_and_cash, axis=-1)\n",
    "    labels = ((diffs_and_cash - max_diffs.reshape([batch_size,1])) == 0).astype(np.float32)\n",
    "    return labels"
   ]
  },
  {
   "cell_type": "code",
   "execution_count": 8,
   "metadata": {},
   "outputs": [],
   "source": [
    "train_y = heuristic_hold(train_x)"
   ]
  },
  {
   "cell_type": "code",
   "execution_count": 9,
   "metadata": {},
   "outputs": [],
   "source": [
    "eval_x = np.random.random([100, n_history, n_market, 1]).astype(np.float32)\n",
    "eval_y = heuristic_hold(eval_x)"
   ]
  },
  {
   "cell_type": "code",
   "execution_count": 10,
   "metadata": {},
   "outputs": [
    {
     "data": {
      "text/plain": [
       "10000"
      ]
     },
     "execution_count": 10,
     "metadata": {},
     "output_type": "execute_result"
    }
   ],
   "source": [
    "len(train_x)"
   ]
  },
  {
   "cell_type": "code",
   "execution_count": 11,
   "metadata": {},
   "outputs": [],
   "source": [
    "history = actor.fit(train_x, train_y, epochs=100, verbose=0,\n",
    "                    callbacks=[tensorboard_callback],\n",
    "                    validation_data=(eval_x, eval_y))"
   ]
  },
  {
   "cell_type": "markdown",
   "metadata": {},
   "source": [
    "## Sanity check after training\n",
    "Observe that the actor indeed returns values close to $1$ for those records that end with a higher number than with what they started, and close to $0$ for all others."
   ]
  },
  {
   "cell_type": "code",
   "execution_count": 12,
   "metadata": {},
   "outputs": [
    {
     "data": {
      "text/plain": [
       "<tf.Tensor: id=65921, shape=(5, 3), dtype=float32, numpy=\n",
       "array([[9.9999166e-01, 5.7911002e-11, 8.3210607e-06],\n",
       "       [9.9904722e-01, 3.8216374e-05, 9.1454387e-04],\n",
       "       [4.4090897e-03, 9.9559093e-01, 1.4579559e-08],\n",
       "       [2.1645445e-02, 6.2791100e-12, 9.7835457e-01],\n",
       "       [8.9481866e-01, 4.4121130e-04, 1.0474013e-01]], dtype=float32)>"
      ]
     },
     "execution_count": 12,
     "metadata": {},
     "output_type": "execute_result"
    }
   ],
   "source": [
    "actor(eval_x)[0:5]"
   ]
  },
  {
   "cell_type": "code",
   "execution_count": 13,
   "metadata": {},
   "outputs": [
    {
     "data": {
      "text/plain": [
       "array([[[[8.9629644e-01, 8.8663226e-01, 2.5182122e-01, 6.0508448e-01,\n",
       "          4.5037588e-01],\n",
       "         [7.4768066e-01, 9.0845115e-02, 8.5376346e-01, 1.3933150e-01,\n",
       "          4.7517553e-01],\n",
       "         [7.6868474e-01, 4.8136485e-01, 5.7109201e-01, 9.3244779e-01,\n",
       "          2.4005452e-01],\n",
       "         [3.3363831e-01, 8.3448595e-01, 7.1814525e-01, 2.9772583e-01,\n",
       "          2.7587709e-01],\n",
       "         [3.2589848e-03, 6.1366737e-01, 4.6541142e-01, 5.2463377e-01,\n",
       "          6.4317435e-01],\n",
       "         [9.5930701e-01, 9.5901787e-01, 5.4708064e-01, 4.0180522e-01,\n",
       "          7.8330076e-01],\n",
       "         [1.2924455e-01, 6.1507511e-01, 3.8455293e-01, 5.2301789e-04,\n",
       "          2.4003425e-01]],\n",
       "\n",
       "        [[5.7900739e-01, 6.9145542e-01, 7.5672841e-01, 7.8309482e-01,\n",
       "          3.4325364e-01],\n",
       "         [1.3532113e-01, 4.8802730e-01, 6.5158181e-02, 2.7573347e-01,\n",
       "          8.8610983e-01],\n",
       "         [8.6251295e-01, 6.0431443e-02, 6.3349330e-01, 4.3780792e-01,\n",
       "          7.1303630e-01],\n",
       "         [4.9236897e-01, 6.4117306e-01, 9.6565507e-02, 9.8547214e-01,\n",
       "          6.8501478e-01],\n",
       "         [3.6821240e-01, 6.6384308e-02, 8.2369423e-01, 3.4360307e-01,\n",
       "          4.3348211e-01],\n",
       "         [6.2216914e-01, 9.7995836e-01, 1.1938969e-02, 4.6577755e-01,\n",
       "          4.9717963e-01],\n",
       "         [6.7791723e-02, 4.9765715e-01, 2.8337619e-01, 8.8724673e-01,\n",
       "          2.8197965e-01]]]], dtype=float32)"
      ]
     },
     "execution_count": 13,
     "metadata": {},
     "output_type": "execute_result"
    }
   ],
   "source": [
    "eval_x[0:5].T"
   ]
  },
  {
   "cell_type": "code",
   "execution_count": 14,
   "metadata": {},
   "outputs": [
    {
     "data": {
      "text/plain": [
       "array([[1., 0., 0.],\n",
       "       [1., 0., 0.],\n",
       "       [0., 1., 0.],\n",
       "       [0., 0., 1.],\n",
       "       [1., 0., 0.]], dtype=float32)"
      ]
     },
     "execution_count": 14,
     "metadata": {},
     "output_type": "execute_result"
    }
   ],
   "source": [
    "eval_y[0:5]"
   ]
  },
  {
   "cell_type": "markdown",
   "metadata": {},
   "source": [
    "### Decreasing loss function\n",
    "The first and most basic outcome from a training setup is a reliably decreasing loss function on the training set as well as on the validation set. Exactly that's what we're seeing below."
   ]
  },
  {
   "cell_type": "code",
   "execution_count": 15,
   "metadata": {},
   "outputs": [],
   "source": [
    "%matplotlib inline\n",
    "import matplotlib.pyplot as plt\n",
    "import seaborn as sns"
   ]
  },
  {
   "cell_type": "code",
   "execution_count": 16,
   "metadata": {},
   "outputs": [
    {
     "data": {
      "image/png": "[encoded data removed]",
      "text/plain": [
       "<Figure size 432x288 with 1 Axes>"
      ]
     },
     "metadata": {
      "needs_background": "light"
     },
     "output_type": "display_data"
    }
   ],
   "source": [
    "plt.plot(history.history['loss'])\n",
    "plt.plot(history.history['val_loss']);"
   ]
  },
  {
   "cell_type": "markdown",
   "metadata": {},
   "source": [
    "## Conclusion\n",
    "The above architecture is able to learn from heuristics in a supervised fashion. It learns to allocate a given budget to the asset with the largest gain in the given period. Note, of course, that this setup is unrealistic in many ways. It's just about the convergence of the setup. "
   ]
  },
  {
   "cell_type": "code",
   "execution_count": null,
   "metadata": {},
   "outputs": [],
   "source": []
  }
 ],
 "metadata": {
  "kernelspec": {
   "display_name": "Python 3",
   "language": "python",
   "name": "python3"
  },
  "language_info": {
   "codemirror_mode": {
    "name": "ipython",
    "version": 3
   },
   "file_extension": ".py",
   "mimetype": "text/x-python",
   "name": "python",
   "nbconvert_exporter": "python",
   "pygments_lexer": "ipython3",
   "version": "3.7.4"
  }
 },
 "nbformat": 4,
 "nbformat_minor": 4
}

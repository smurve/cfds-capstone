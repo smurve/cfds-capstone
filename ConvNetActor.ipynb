{
 "cells": [
  {
   "cell_type": "markdown",
   "metadata": {},
   "source": [
    "# Verifying ConvNet Architecture\n",
    "In this notebook I make a quick plausibility check to verify the architecture of a convolutional network"
   ]
  },
  {
   "cell_type": "code",
   "execution_count": 18,
   "metadata": {},
   "outputs": [
    {
     "data": {
      "text/plain": [
       "'2.0.0'"
      ]
     },
     "execution_count": 18,
     "metadata": {},
     "output_type": "execute_result"
    }
   ],
   "source": [
    "import tensorflow.keras.layers as tkl\n",
    "import tensorflow.keras as tk\n",
    "import tensorflow as tf\n",
    "import os\n",
    "import shutil\n",
    "import numpy as np\n",
    "tf.__version__"
   ]
  },
  {
   "cell_type": "code",
   "execution_count": 19,
   "metadata": {},
   "outputs": [
    {
     "name": "stdout",
     "output_type": "stream",
     "text": [
      "Logging to ./logs/scalars/20191019-171128\n"
     ]
    }
   ],
   "source": [
    "# Uncomment if you know what you're doing\n",
    "shutil.rmtree('logs', ignore_errors=True)\n",
    "\n",
    "from datetime import datetime\n",
    "logdir = \"./logs/scalars/\" + datetime.now().strftime(\"%Y%m%d-%H%M%S\")\n",
    "tensorboard_callback = tk.callbacks.TensorBoard(log_dir=logdir)\n",
    "os.makedirs(logdir, exist_ok=True)\n",
    "print(\"Logging to %s\" % logdir)"
   ]
  },
  {
   "cell_type": "markdown",
   "metadata": {},
   "source": [
    "Execute ```tensorboard --logdir ./logs``` on a terminal in this directory to watch the training converge as you continue with this notebook."
   ]
  },
  {
   "cell_type": "markdown",
   "metadata": {},
   "source": [
    "## The Problem\n",
    "In our market problem we will "
   ]
  },
  {
   "cell_type": "markdown",
   "metadata": {},
   "source": [
    "## The Convolutional Network Architecture\n",
    "\n",
    "We feed a history of 7 prices from 2 different assets (stocks) into the network. The design is such that the convolution transitions from stock to stock, always probing the entire history of 7 prices. The convolutional layers output is being fed into a 3-layer feed-forward network that ends with a softmax activation. So the network will learn representations across the assets, not specific ones for all assets. This is just a random choice to simplify things for the beginning. "
   ]
  },
  {
   "cell_type": "code",
   "execution_count": 20,
   "metadata": {},
   "outputs": [],
   "source": [
    "n_history=7\n",
    "n_market=2\n",
    "n_portfolio=3 # includes the cash position"
   ]
  },
  {
   "cell_type": "markdown",
   "metadata": {},
   "source": [
    "Here, an actor is just a function (an artificial neural network), that gets a week's worth of price history and outputs a set of portfolio weights."
   ]
  },
  {
   "cell_type": "code",
   "execution_count": 21,
   "metadata": {},
   "outputs": [],
   "source": [
    "def create_convnet_actor(n_filters, n_history, n_market, n_portfolio):\n",
    "    inputs = tk.Input(shape=[n_history,n_market,1])\n",
    "    conv = tkl.Conv2D(activation=None, filters=n_filters, padding='valid', kernel_size=[n_history,n_market])\n",
    "    reshape = tkl.Reshape([n_filters])    \n",
    "    hidden1 = tkl.Dense(units=16, activation='relu')\n",
    "    hidden2 = tkl.Dense(units=8, activation='relu')\n",
    "    out = tkl.Dense(units=n_portfolio, activation='softmax')\n",
    "\n",
    "    model = tk.Model(inputs, out(hidden2(hidden1(reshape(conv(inputs))))))\n",
    "    return model\n",
    "\n",
    "actor = create_convnet_actor(n_filters = 10, n_history=7, n_market=2, n_portfolio=3)"
   ]
  },
  {
   "cell_type": "code",
   "execution_count": 22,
   "metadata": {},
   "outputs": [],
   "source": [
    "actor.compile('sgd', 'mse')"
   ]
  },
  {
   "cell_type": "markdown",
   "metadata": {},
   "source": [
    "#### Random values as training data\n",
    "We just want to see the training converge to verify the architecture"
   ]
  },
  {
   "cell_type": "code",
   "execution_count": 23,
   "metadata": {},
   "outputs": [],
   "source": [
    "train_x = np.random.random([\n",
    "    10000, # number of records\n",
    "    n_history,     # history size\n",
    "    n_market,      # number of assets\n",
    "    1              # depth - usually 3 for the color plane in computer vision - here it's just one layer.\n",
    "]).astype(np.float32)"
   ]
  },
  {
   "cell_type": "code",
   "execution_count": 24,
   "metadata": {},
   "outputs": [
    {
     "data": {
      "text/plain": [
       "array([[[0.5423218 ],\n",
       "        [0.94842064]],\n",
       "\n",
       "       [[0.46190357],\n",
       "        [0.6173715 ]],\n",
       "\n",
       "       [[0.6411974 ],\n",
       "        [0.21499687]],\n",
       "\n",
       "       [[0.83309025],\n",
       "        [0.6640006 ]],\n",
       "\n",
       "       [[0.47465488],\n",
       "        [0.04679629]],\n",
       "\n",
       "       [[0.36450928],\n",
       "        [0.58323574]],\n",
       "\n",
       "       [[0.73208964],\n",
       "        [0.907394  ]]], dtype=float32)"
      ]
     },
     "execution_count": 24,
     "metadata": {},
     "output_type": "execute_result"
    }
   ],
   "source": [
    "train_x[0]"
   ]
  },
  {
   "cell_type": "markdown",
   "metadata": {},
   "source": [
    "#### Learning from heuristics\n",
    "This function simply returns a value of $1$ for the asset with the maximum rise during the period of 7 (days). Note that this would be true for the cash position only if none of the other assets has gained."
   ]
  },
  {
   "cell_type": "code",
   "execution_count": 25,
   "metadata": {},
   "outputs": [],
   "source": [
    "def heuristic_hold(x):\n",
    "    batch_size = len(x)\n",
    "    x1 = np.squeeze(x)\n",
    "    diffs = x1[:,-1,:] - x1[:,0,:]\n",
    "    diffs_and_cash = np.hstack([np.zeros([batch_size, 1], dtype=np.float32), diffs])\n",
    "    max_diffs = np.max(diffs_and_cash, axis=-1)\n",
    "    labels = ((diffs_and_cash - max_diffs.reshape([batch_size,1])) == 0).astype(np.float32)\n",
    "    return labels"
   ]
  },
  {
   "cell_type": "code",
   "execution_count": 26,
   "metadata": {},
   "outputs": [],
   "source": [
    "train_y = heuristic_hold(train_x)"
   ]
  },
  {
   "cell_type": "code",
   "execution_count": 27,
   "metadata": {},
   "outputs": [],
   "source": [
    "eval_x = np.random.random([100, n_history, n_market, 1]).astype(np.float32)\n",
    "eval_y = heuristic_hold(eval_x)"
   ]
  },
  {
   "cell_type": "code",
   "execution_count": 28,
   "metadata": {},
   "outputs": [
    {
     "data": {
      "text/plain": [
       "10000"
      ]
     },
     "execution_count": 28,
     "metadata": {},
     "output_type": "execute_result"
    }
   ],
   "source": [
    "len(train_x)"
   ]
  },
  {
   "cell_type": "code",
   "execution_count": 29,
   "metadata": {},
   "outputs": [],
   "source": [
    "history = actor.fit(train_x, train_y, epochs=100, verbose=0,\n",
    "                    callbacks=[tensorboard_callback],\n",
    "                    validation_data=(eval_x, eval_y))"
   ]
  },
  {
   "cell_type": "markdown",
   "metadata": {},
   "source": [
    "## Sanity check after training\n",
    "Observe that the actor indeed returns values close to $1$ for those records that end with a higher number than with what they started, and close to $0$ for all others."
   ]
  },
  {
   "cell_type": "code",
   "execution_count": 30,
   "metadata": {},
   "outputs": [
    {
     "data": {
      "text/plain": [
       "<tf.Tensor: id=131839, shape=(5, 3), dtype=float32, numpy=\n",
       "array([[2.9615449e-02, 9.6075964e-04, 9.6942377e-01],\n",
       "       [2.8961492e-03, 7.0295769e-01, 2.9414615e-01],\n",
       "       [2.3214301e-05, 9.9983788e-01, 1.3887252e-04],\n",
       "       [9.1376942e-06, 9.7920638e-06, 9.9998105e-01],\n",
       "       [1.7224326e-04, 9.9911767e-01, 7.1013946e-04]], dtype=float32)>"
      ]
     },
     "execution_count": 30,
     "metadata": {},
     "output_type": "execute_result"
    }
   ],
   "source": [
    "actor(eval_x)[0:5]"
   ]
  },
  {
   "cell_type": "code",
   "execution_count": 31,
   "metadata": {},
   "outputs": [
    {
     "data": {
      "text/plain": [
       "array([[[[0.98237413, 0.15879264, 0.09299976, 0.93869907, 0.05983596],\n",
       "         [0.42424643, 0.00159847, 0.4108844 , 0.42516574, 0.2456094 ],\n",
       "         [0.77895504, 0.37682027, 0.52791137, 0.7013781 , 0.00907581],\n",
       "         [0.79488754, 0.14190619, 0.20808372, 0.49722308, 0.40698636],\n",
       "         [0.732423  , 0.665011  , 0.11356354, 0.62308544, 0.50520414],\n",
       "         [0.31517822, 0.9523127 , 0.28562737, 0.371487  , 0.9782225 ],\n",
       "         [0.8682493 , 0.3641239 , 0.49464923, 0.9894279 , 0.4164459 ]],\n",
       "\n",
       "        [[0.71307176, 0.73448867, 0.7761955 , 0.14158028, 0.5121053 ],\n",
       "         [0.5243858 , 0.19696505, 0.98520035, 0.7774107 , 0.78784245],\n",
       "         [0.4107385 , 0.5867545 , 0.87636673, 0.7144265 , 0.09150463],\n",
       "         [0.50835717, 0.4609982 , 0.6365686 , 0.42198145, 0.43343198],\n",
       "         [0.74803233, 0.0013582 , 0.4393742 , 0.41646582, 0.9516365 ],\n",
       "         [0.5004046 , 0.6934404 , 0.9733016 , 0.33802387, 0.00331327],\n",
       "         [0.78297234, 0.9028683 , 0.7828356 , 0.48547396, 0.5987733 ]]]],\n",
       "      dtype=float32)"
      ]
     },
     "execution_count": 31,
     "metadata": {},
     "output_type": "execute_result"
    }
   ],
   "source": [
    "eval_x[0:5].T"
   ]
  },
  {
   "cell_type": "code",
   "execution_count": 32,
   "metadata": {},
   "outputs": [
    {
     "data": {
      "text/plain": [
       "array([[0., 0., 1.],\n",
       "       [0., 1., 0.],\n",
       "       [0., 1., 0.],\n",
       "       [0., 0., 1.],\n",
       "       [0., 1., 0.]], dtype=float32)"
      ]
     },
     "execution_count": 32,
     "metadata": {},
     "output_type": "execute_result"
    }
   ],
   "source": [
    "eval_y[0:5]"
   ]
  },
  {
   "cell_type": "markdown",
   "metadata": {},
   "source": [
    "### Decreasing loss function\n",
    "The first and most basic outcome from a training setup is a reliably decreasing loss function on the training set as well as on the validation set. Exactly that's what we're seeing below."
   ]
  },
  {
   "cell_type": "code",
   "execution_count": 33,
   "metadata": {},
   "outputs": [],
   "source": [
    "%matplotlib inline\n",
    "import matplotlib.pyplot as plt\n",
    "import seaborn as sns"
   ]
  },
  {
   "cell_type": "code",
   "execution_count": 34,
   "metadata": {},
   "outputs": [
    {
     "data": {
      "image/png": "[encoded data removed]",
      "text/plain": [
       "<Figure size 432x288 with 1 Axes>"
      ]
     },
     "metadata": {
      "needs_background": "light"
     },
     "output_type": "display_data"
    }
   ],
   "source": [
    "plt.plot(history.history['loss'])\n",
    "plt.plot(history.history['val_loss']);"
   ]
  },
  {
   "cell_type": "markdown",
   "metadata": {},
   "source": [
    "## Conclusion\n",
    "The above architecture is able to learn from heuristics in a supervised fashion. It learns to allocate a given budget to the asset with the largest gain in the given period. Note, of course, that this setup is unrealistic in many ways. It's just about the convergence of the setup. "
   ]
  },
  {
   "cell_type": "code",
   "execution_count": null,
   "metadata": {},
   "outputs": [],
   "source": []
  }
 ],
 "metadata": {
  "kernelspec": {
   "display_name": "Python 3",
   "language": "python",
   "name": "python3"
  },
  "language_info": {
   "codemirror_mode": {
    "name": "ipython",
    "version": 3
   },
   "file_extension": ".py",
   "mimetype": "text/x-python",
   "name": "python",
   "nbconvert_exporter": "python",
   "pygments_lexer": "ipython3",
   "version": "3.6.8"
  }
 },
 "nbformat": 4,
 "nbformat_minor": 4
}

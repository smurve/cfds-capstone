{
 "cells": [
  {
   "cell_type": "markdown",
   "metadata": {},
   "source": [
    "# Verifying ConvNet Architecture\n",
    "In this notebook I make a quick plausibility check to verify the architecture of a convolutional network"
   ]
  },
  {
   "cell_type": "code",
   "execution_count": 1,
   "metadata": {},
   "outputs": [
    {
     "data": {
      "text/plain": [
       "'2.0.0'"
      ]
     },
     "execution_count": 1,
     "metadata": {},
     "output_type": "execute_result"
    }
   ],
   "source": [
    "import tensorflow.keras.layers as tkl\n",
    "import tensorflow.keras as tk\n",
    "import tensorflow as tf\n",
    "import os\n",
    "import shutil\n",
    "import numpy as np\n",
    "tf.__version__"
   ]
  },
  {
   "cell_type": "code",
   "execution_count": 2,
   "metadata": {},
   "outputs": [
    {
     "name": "stdout",
     "output_type": "stream",
     "text": [
      "Logging to ./logs/scalars/20191009-202603\n"
     ]
    }
   ],
   "source": [
    "# Uncomment if you know what you're doing\n",
    "shutil.rmtree('logs', ignore_errors=True)\n",
    "\n",
    "from datetime import datetime\n",
    "logdir = \"./logs/scalars/\" + datetime.now().strftime(\"%Y%m%d-%H%M%S\")\n",
    "tensorboard_callback = tk.callbacks.TensorBoard(log_dir=logdir)\n",
    "os.makedirs(logdir, exist_ok=True)\n",
    "print(\"Logging to %s\" % logdir)"
   ]
  },
  {
   "cell_type": "markdown",
   "metadata": {},
   "source": [
    "Execute ```tensorboard --logdir ./logs``` on a terminal in this directory to watch the training converge as you continue with this notebook."
   ]
  },
  {
   "cell_type": "markdown",
   "metadata": {},
   "source": [
    "## The Convolutional Network Architecture\n",
    "\n",
    "We feed a history of 7 prices from 2 different assets (stocks) into the network. The design is such that the convolution transitions from stock to stock, always probing the entire history of 7 prices. The convolutional layers output is being fed into a 3-layer feed-forward network that ends with a softmax activation. So the network will learn representations across the assets, not specific ones for all assets. This is just a random choice to simplify things for the beginning. "
   ]
  },
  {
   "cell_type": "code",
   "execution_count": 3,
   "metadata": {},
   "outputs": [],
   "source": [
    "n_history=7\n",
    "n_market=2\n",
    "n_portfolio=3 # includes the cash position"
   ]
  },
  {
   "cell_type": "markdown",
   "metadata": {},
   "source": [
    "Here, an actor is just a function (an artificial neural network), that gets a week's worth of price history and outputs a set of portfolio weights."
   ]
  },
  {
   "cell_type": "code",
   "execution_count": 4,
   "metadata": {},
   "outputs": [],
   "source": [
    "def create_convnet_actor(n_filters, n_history, n_market, n_portfolio):\n",
    "    inputs = tk.Input(shape=[n_history,n_market,1])\n",
    "    conv = tkl.Conv2D(activation=None, filters=n_filters, padding='valid', kernel_size=[n_history,n_market])\n",
    "    reshape = tkl.Reshape([n_filters])    \n",
    "    hidden1 = tkl.Dense(units=16, activation='relu')\n",
    "    hidden2 = tkl.Dense(units=8, activation='relu')\n",
    "    out = tkl.Dense(units=n_portfolio, activation='softmax')\n",
    "\n",
    "    model = tk.Model(inputs, out(hidden2(hidden1(reshape(conv(inputs))))))\n",
    "    return model\n",
    "\n",
    "actor = create_convnet_actor(n_filters = 10, n_history=7, n_market=2, n_portfolio=3)"
   ]
  },
  {
   "cell_type": "code",
   "execution_count": 5,
   "metadata": {},
   "outputs": [],
   "source": [
    "actor.compile('sgd', 'mse')"
   ]
  },
  {
   "cell_type": "markdown",
   "metadata": {},
   "source": [
    "#### Random values as training data\n",
    "We just want to see the training converge to verify the architecture"
   ]
  },
  {
   "cell_type": "code",
   "execution_count": 6,
   "metadata": {},
   "outputs": [],
   "source": [
    "train_x = np.random.random([\n",
    "    10000, # number of records\n",
    "    n_history,     # history size\n",
    "    n_market,      # number of assets\n",
    "    1              # depth - usually 3 for the color plane in computer vision - here it's just one layer.\n",
    "]).astype(np.float32)"
   ]
  },
  {
   "cell_type": "markdown",
   "metadata": {},
   "source": [
    "#### Learning from heuristics\n",
    "This function simply returns a value of $1$ for the asset with the maximum rise during the period of 7 (days). Note that this would be true for the cash position only if none of the other assets has gained."
   ]
  },
  {
   "cell_type": "code",
   "execution_count": 7,
   "metadata": {},
   "outputs": [],
   "source": [
    "def heuristic_hold(x):\n",
    "    batch_size = len(x)\n",
    "    x1 = np.squeeze(x)\n",
    "    diffs = x1[:,-1,:] - x1[:,0,:]\n",
    "    diffs_and_cash = np.hstack([np.zeros([batch_size, 1], dtype=np.float32), diffs])\n",
    "    max_diffs = np.max(diffs_and_cash, axis=-1)\n",
    "    labels = ((diffs_and_cash - max_diffs.reshape([batch_size,1])) == 0).astype(np.float32)\n",
    "    return labels"
   ]
  },
  {
   "cell_type": "code",
   "execution_count": 8,
   "metadata": {},
   "outputs": [],
   "source": [
    "train_y = heuristic_hold(train_x)"
   ]
  },
  {
   "cell_type": "code",
   "execution_count": 9,
   "metadata": {},
   "outputs": [],
   "source": [
    "eval_x = np.random.random([100, n_history, n_market, 1]).astype(np.float32)\n",
    "eval_y = heuristic_hold(eval_x)"
   ]
  },
  {
   "cell_type": "code",
   "execution_count": 10,
   "metadata": {},
   "outputs": [
    {
     "data": {
      "text/plain": [
       "10000"
      ]
     },
     "execution_count": 10,
     "metadata": {},
     "output_type": "execute_result"
    }
   ],
   "source": [
    "len(train_x)"
   ]
  },
  {
   "cell_type": "code",
   "execution_count": 11,
   "metadata": {},
   "outputs": [],
   "source": [
    "history = actor.fit(train_x, train_y, epochs=100, verbose=0,\n",
    "                    callbacks=[tensorboard_callback],\n",
    "                    validation_data=(eval_x, eval_y))"
   ]
  },
  {
   "cell_type": "markdown",
   "metadata": {},
   "source": [
    "## Sanity check after training\n",
    "Observe that the actor indeed returns values close to $1$ for those records that end with a higher number than with what they started, and close to $0$ for all others."
   ]
  },
  {
   "cell_type": "code",
   "execution_count": 12,
   "metadata": {},
   "outputs": [
    {
     "data": {
      "text/plain": [
       "<tf.Tensor: id=65921, shape=(5, 3), dtype=float32, numpy=\n",
       "array([[9.9178267e-01, 1.3254403e-06, 8.2160607e-03],\n",
       "       [2.7697920e-03, 9.9723023e-01, 1.3440084e-10],\n",
       "       [2.9477020e-04, 9.8214409e-11, 9.9970526e-01],\n",
       "       [9.0362728e-01, 9.6371323e-02, 1.3571804e-06],\n",
       "       [1.2573179e-04, 9.9987411e-01, 1.3156919e-07]], dtype=float32)>"
      ]
     },
     "execution_count": 12,
     "metadata": {},
     "output_type": "execute_result"
    }
   ],
   "source": [
    "actor(eval_x)[0:5]"
   ]
  },
  {
   "cell_type": "code",
   "execution_count": 13,
   "metadata": {},
   "outputs": [
    {
     "data": {
      "text/plain": [
       "array([[[[0.5048257 , 0.16746145, 0.8333844 , 0.21176466, 0.43628275],\n",
       "         [0.81329894, 0.296678  , 0.86630124, 0.0506321 , 0.07100346],\n",
       "         [0.9054048 , 0.42934114, 0.58012617, 0.75503826, 0.9337066 ],\n",
       "         [0.00281597, 0.165394  , 0.93467546, 0.35798764, 0.8866483 ],\n",
       "         [0.93853426, 0.85151315, 0.62736166, 0.9640938 , 0.26032746],\n",
       "         [0.66523546, 0.6626853 , 0.67647636, 0.01708173, 0.22109553],\n",
       "         [0.04055693, 0.335998  , 0.0907115 , 0.1746989 , 0.6750823 ]],\n",
       "\n",
       "        [[0.26771924, 0.86109436, 0.08268057, 0.57638407, 0.49940535],\n",
       "         [0.9294672 , 0.5915728 , 0.539621  , 0.90899724, 0.3894238 ],\n",
       "         [0.83450615, 0.31830716, 0.33301535, 0.07918822, 0.9595502 ],\n",
       "         [0.67313087, 0.67087966, 0.397565  , 0.04882386, 0.49247226],\n",
       "         [0.7960841 , 0.8103853 , 0.23654021, 0.14500707, 0.944525  ],\n",
       "         [0.53637165, 0.0143277 , 0.38970706, 0.9309059 , 0.3915091 ],\n",
       "         [0.14614654, 0.1877474 , 0.621519  , 0.20098963, 0.27043733]]]],\n",
       "      dtype=float32)"
      ]
     },
     "execution_count": 13,
     "metadata": {},
     "output_type": "execute_result"
    }
   ],
   "source": [
    "eval_x[0:5].T"
   ]
  },
  {
   "cell_type": "code",
   "execution_count": 14,
   "metadata": {},
   "outputs": [
    {
     "data": {
      "text/plain": [
       "array([[1., 0., 0.],\n",
       "       [0., 1., 0.],\n",
       "       [0., 0., 1.],\n",
       "       [1., 0., 0.],\n",
       "       [0., 1., 0.]], dtype=float32)"
      ]
     },
     "execution_count": 14,
     "metadata": {},
     "output_type": "execute_result"
    }
   ],
   "source": [
    "eval_y[0:5]"
   ]
  },
  {
   "cell_type": "markdown",
   "metadata": {},
   "source": [
    "### Decreasing loss function\n",
    "The first and most basic outcome from a training setup is a reliably decreasing loss function on the training set as well as on the validation set. Exactly that's what we're seeing below."
   ]
  },
  {
   "cell_type": "code",
   "execution_count": 15,
   "metadata": {},
   "outputs": [],
   "source": [
    "%matplotlib inline\n",
    "import matplotlib.pyplot as plt\n",
    "import seaborn as sns"
   ]
  },
  {
   "cell_type": "code",
   "execution_count": 16,
   "metadata": {},
   "outputs": [
    {
     "data": {
      "image/png": "[encoded data removed]",
      "text/plain": [
       "<Figure size 432x288 with 1 Axes>"
      ]
     },
     "metadata": {
      "needs_background": "light"
     },
     "output_type": "display_data"
    }
   ],
   "source": [
    "plt.plot(history.history['loss'])\n",
    "plt.plot(history.history['val_loss']);"
   ]
  },
  {
   "cell_type": "markdown",
   "metadata": {},
   "source": [
    "## Conclusion\n",
    "The above architecture is able to learn from heuristics in a supervised fashion. It learns to allocate a given budget to the asset with the largest gain in the given period. Note, of course, that this setup is unrealistic in many ways. It's just about the convergence of the setup. "
   ]
  },
  {
   "cell_type": "code",
   "execution_count": null,
   "metadata": {},
   "outputs": [],
   "source": []
  }
 ],
 "metadata": {
  "kernelspec": {
   "display_name": "Python 3",
   "language": "python",
   "name": "python3"
  },
  "language_info": {
   "codemirror_mode": {
    "name": "ipython",
    "version": 3
   },
   "file_extension": ".py",
   "mimetype": "text/x-python",
   "name": "python",
   "nbconvert_exporter": "python",
   "pygments_lexer": "ipython3",
   "version": "3.6.7"
  }
 },
 "nbformat": 4,
 "nbformat_minor": 4
}

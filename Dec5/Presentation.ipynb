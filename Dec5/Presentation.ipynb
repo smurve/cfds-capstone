{
 "cells": [
  {
   "cell_type": "markdown",
   "metadata": {},
   "source": [
    "# Dec 5 Presentation"
   ]
  },
  {
   "cell_type": "markdown",
   "metadata": {},
   "source": [
    "---\n",
    "# About me\n",
    "![wolfie](wolfie.png)"
   ]
  },
  {
   "cell_type": "markdown",
   "metadata": {},
   "source": [
    "---"
   ]
  },
  {
   "cell_type": "markdown",
   "metadata": {},
   "source": [
    "# Can you predict the market?\n",
    "![predictions](predictions.gif)\n",
    "Image with courtesy of investopedia.com"
   ]
  },
  {
   "cell_type": "markdown",
   "metadata": {},
   "source": [
    "---"
   ]
  },
  {
   "cell_type": "markdown",
   "metadata": {},
   "source": [
    "# Can you predict anything at all?\n",
    "![Train](train.jpg)\n",
    "Photo by Fabrizio Verrecchia on Unsplash"
   ]
  },
  {
   "cell_type": "markdown",
   "metadata": {},
   "source": [
    "---\n",
    "# Inertia in the Market?\n",
    "![Forces](Forces.png)\n",
    "### Inertia makes movements somewhat predictable\n",
    "Photo by Randy Fath on Unsplash"
   ]
  },
  {
   "cell_type": "markdown",
   "metadata": {},
   "source": [
    "---\n",
    "# A Synthetic Market Model\n",
    "![inertia](Inertia.png)\n",
    "#### Now that I have got nothing but inertia - can it be exploited?"
   ]
  },
  {
   "cell_type": "markdown",
   "metadata": {},
   "source": [
    "---\n",
    "# Exploitation: Technically\n",
    "![RL](RL.png)"
   ]
  },
  {
   "cell_type": "markdown",
   "metadata": {},
   "source": [
    "---\n",
    "# Learn From the Heroes\n",
    "![lee sedol](lee_sedol.jpg)\n",
    "#### Alpha-go: A neural network beats the world champion"
   ]
  },
  {
   "cell_type": "markdown",
   "metadata": {},
   "source": [
    "---\n",
    "# Deep Deterministic Policy Gradient\n",
    "![DDPG](DDPG.png)"
   ]
  },
  {
   "cell_type": "markdown",
   "metadata": {},
   "source": [
    "---\n",
    "# Starting with a toy problem\n",
    "![SINX](SINX.png)"
   ]
  },
  {
   "cell_type": "markdown",
   "metadata": {},
   "source": [
    "---\n",
    "# Solved!\n",
    "![Toy Results](Toy_Result.png)"
   ]
  },
  {
   "cell_type": "markdown",
   "metadata": {},
   "source": [
    "---\n",
    "# Disappointment - More work to do!\n",
    "![Disappointment](Disappointment.png)"
   ]
  },
  {
   "cell_type": "markdown",
   "metadata": {},
   "source": [
    "---\n",
    "# Anyway...\n",
    "\n",
    "#### It was an exciting learning experience,\n",
    "#### a very dense programm,\n",
    "#### I gained immensely valuable knowledge,\n",
    "#### and had a hell lot of fun!\n",
    "\n",
    "## And I have a new hobby!"
   ]
  },
  {
   "cell_type": "code",
   "execution_count": null,
   "metadata": {},
   "outputs": [],
   "source": []
  }
 ],
 "metadata": {
  "kernelspec": {
   "display_name": "Python 3",
   "language": "python",
   "name": "python3"
  },
  "language_info": {
   "codemirror_mode": {
    "name": "ipython",
    "version": 3
   },
   "file_extension": ".py",
   "mimetype": "text/x-python",
   "name": "python",
   "nbconvert_exporter": "python",
   "pygments_lexer": "ipython3",
   "version": "3.7.4"
  }
 },
 "nbformat": 4,
 "nbformat_minor": 4
}
